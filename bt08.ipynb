{
  "nbformat": 4,
  "nbformat_minor": 0,
  "metadata": {
    "colab": {
      "name": "Untitled38.ipynb",
      "provenance": [],
      "authorship_tag": "ABX9TyOiU8KGx44CJVCPm6oTktzA",
      "include_colab_link": true
    },
    "kernelspec": {
      "name": "python3",
      "display_name": "Python 3"
    },
    "language_info": {
      "name": "python"
    }
  },
  "cells": [
    {
      "cell_type": "markdown",
      "metadata": {
        "id": "view-in-github",
        "colab_type": "text"
      },
      "source": [
        "<a href=\"https://colab.research.google.com/github/thangpro1242002/Cautrucdulieuvagiaithuat/blob/main/bt08.ipynb\" target=\"_parent\"><img src=\"https://colab.research.google.com/assets/colab-badge.svg\" alt=\"Open In Colab\"/></a>"
      ]
    },
    {
      "cell_type": "code",
      "metadata": {
        "id": "t3uLEAtoJmkK"
      },
      "source": [
        "class Node:\n",
        "   def __init__(self, value):\n",
        "      self.value = value\n",
        "      self.next = None\n",
        " \n",
        "class Stack:\n",
        "    \n",
        "   # Initializing a stack.\n",
        "   # Use a dummy node, which is\n",
        "   # easier for handling edge cases.\n",
        "   def __init__(self):\n",
        "      self.head = Node(\"head\")\n",
        "      self.size = 0\n",
        " \n",
        "   # String representation of the stack\n",
        "   def __str__(self):\n",
        "      cur = self.head.next\n",
        "      out = \"\"\n",
        "      while cur:\n",
        "         out += str(cur.value) + \"->\"\n",
        "         cur = cur.next\n",
        "      return out[:-3]  \n",
        " \n",
        "   # Get the current size of the stack\n",
        "   def getSize(self):\n",
        "      return self.size\n",
        "    \n",
        "   # Check if the stack is empty\n",
        "   def isEmpty(self):\n",
        "      return self.size == 0\n",
        "    \n",
        "   # Get the top item of the stack\n",
        "   def peek(self):\n",
        "       \n",
        "      # Sanitary check to see if we\n",
        "      # are peeking an empty stack.\n",
        "      if self.isEmpty():\n",
        "         raise Exception(\"Peeking from an empty stack\")\n",
        "      return self.head.next.value\n",
        " \n",
        "   # Push a value into the stack.\n",
        "   def push(self, value):\n",
        "      node = Node(value)\n",
        "      node.next = self.head.next\n",
        "      self.head.next = node\n",
        "      self.size += 1\n",
        "      \n",
        "   # Remove a value from the stack and return.\n",
        "   def pop(self):\n",
        "      if self.isEmpty():\n",
        "         raise Exception(\"Popping from an empty stack\")\n",
        "      remove = self.head.next\n",
        "      self.head.next = self.head.next.next\n",
        "      self.size -= 1\n",
        "      return remove.value\n",
        " \n",
        "# Driver Code\n",
        "if __name__ == \"__main__\":\n",
        "   stack = Stack()\n",
        "   for i in range(1, 11):\n",
        "      stack.push(i)\n",
        "   print(f\"Stack: {stack}\")\n",
        " \n",
        "   for _ in range(1, 6):\n",
        "      remove = stack.pop()\n",
        "      print(f\"Pop: {remove}\")\n",
        "   print(f\"Stack: {stack}\")"
      ],
      "execution_count": null,
      "outputs": []
    }
  ]
}