{
  "nbformat": 4,
  "nbformat_minor": 0,
  "metadata": {
    "colab": {
      "name": "Untitled33.ipynb",
      "provenance": [],
      "authorship_tag": "ABX9TyNjukHE1jUSebAdFRS2LOVj",
      "include_colab_link": true
    },
    "kernelspec": {
      "name": "python3",
      "display_name": "Python 3"
    },
    "language_info": {
      "name": "python"
    }
  },
  "cells": [
    {
      "cell_type": "markdown",
      "metadata": {
        "id": "view-in-github",
        "colab_type": "text"
      },
      "source": [
        "<a href=\"https://colab.research.google.com/github/thangpro1242002/Cautrucdulieuvagiaithuat/blob/main/th%C3%A1p%20h%C3%A0%20n%E1%BB%99i%20v%C3%A0%20%C6%B0%E1%BB%9Bc%20chung%20l%E1%BB%9Bn%20nh%E1%BA%A5t.ipynb\" target=\"_parent\"><img src=\"https://colab.research.google.com/assets/colab-badge.svg\" alt=\"Open In Colab\"/></a>"
      ]
    },
    {
      "cell_type": "code",
      "metadata": {
        "id": "N-r9eq_H1TjS"
      },
      "source": [
        "def thapHaNoi(n, toaMot, toaHai, toaBa):\n",
        "\n",
        "    if n == 1:\n",
        "        print(\"Chuyen tu\", toaMot, \"sang\", toaBa)\n",
        "    else:\n",
        "        thapHaNoi(n-1,toaMot,toaBa ,toaHai)\n",
        "        print(\"Chuyen tu\", toaMot, \"sang\", toaBa)\n",
        "        thapHaNoi(n-1,toaHai,toaMot, toaBa)"
      ],
      "execution_count": 1,
      "outputs": []
    },
    {
      "cell_type": "code",
      "metadata": {
        "colab": {
          "base_uri": "https://localhost:8080/"
        },
        "id": "uKy3P7wb1cLj",
        "outputId": "39226515-2886-43be-8f4c-62da2fdec71f"
      },
      "source": [
        "thapHaNoi(5,'A','B','C')"
      ],
      "execution_count": 2,
      "outputs": [
        {
          "output_type": "stream",
          "text": [
            "Chuyen tu A sang C\n",
            "Chuyen tu A sang B\n",
            "Chuyen tu C sang B\n",
            "Chuyen tu A sang C\n",
            "Chuyen tu B sang A\n",
            "Chuyen tu B sang C\n",
            "Chuyen tu A sang C\n",
            "Chuyen tu A sang B\n",
            "Chuyen tu C sang B\n",
            "Chuyen tu C sang A\n",
            "Chuyen tu B sang A\n",
            "Chuyen tu C sang B\n",
            "Chuyen tu A sang C\n",
            "Chuyen tu A sang B\n",
            "Chuyen tu C sang B\n",
            "Chuyen tu A sang C\n",
            "Chuyen tu B sang A\n",
            "Chuyen tu B sang C\n",
            "Chuyen tu A sang C\n",
            "Chuyen tu B sang A\n",
            "Chuyen tu C sang B\n",
            "Chuyen tu C sang A\n",
            "Chuyen tu B sang A\n",
            "Chuyen tu B sang C\n",
            "Chuyen tu A sang C\n",
            "Chuyen tu A sang B\n",
            "Chuyen tu C sang B\n",
            "Chuyen tu A sang C\n",
            "Chuyen tu B sang A\n",
            "Chuyen tu B sang C\n",
            "Chuyen tu A sang C\n"
          ],
          "name": "stdout"
        }
      ]
    },
    
